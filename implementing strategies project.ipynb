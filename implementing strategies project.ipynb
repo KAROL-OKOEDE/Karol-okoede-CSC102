{
 "cells": [
  {
   "cell_type": "code",
   "execution_count": null,
   "id": "d0ae17d4",
   "metadata": {},
   "outputs": [],
   "source": [
    "# the output pattern to be generated is\n",
    "# 1\n",
    "# 1 2\n",
    "# 1 2 3\n",
    "# 1 2 3 4\n",
    "# 1 2 3 4 5\n",
    "num = int(input(\"enter a number to generate its pattern = \"))\n",
    "for i in range(1,num + 1):\n",
    "    for j in range(1,i + 1):\n",
    "        print(j, end = \" \")\n",
    "    print()"
   ]
  },
  {
   "cell_type": "code",
   "execution_count": null,
   "id": "1f0721a3",
   "metadata": {},
   "outputs": [],
   "source": [
    "#use of nested loops to find the prime numbers between 2 to 50\n",
    "num = 2\n",
    "for i in range(2, 50)\n",
    "    j = 2\n",
    "    while (j <= (i/2)):\n",
    "        if (i % j == 0): #factor found\n",
    "            break  #break out of while loop\n",
    "        j += 1\n",
    "    if (j > i/j) : #no factor found\n",
    "        print(i, \"is a prime number\")\n",
    "print(\"bye bye\")\n",
    "        "
   ]
  },
  {
   "cell_type": "code",
   "execution_count": null,
   "id": "9d59f033",
   "metadata": {},
   "outputs": [],
   "source": [
    "# the following program uses a for loop nested inside an if...else \n",
    "#block to calculate the factoria of a given number\n",
    "num = int(input(\"enter a number: \"))\n",
    "fact = 1\n",
    "# check if the number is negative, positive or zero\n",
    "if num < 0:\n",
    "    print(\"sorry, factorial does not exist for negative number\")\n",
    "    elif num == 0:\n",
    "        print(\"the factorial of 0 is 1\")\n",
    "    else:\n",
    "        for i in range(1, num + 1):\n",
    "            fact = fact * i\n",
    "            print(\"factorial of\", num, \" is \", fact)"
   ]
  },
  {
   "cell_type": "code",
   "execution_count": null,
   "id": "e7fe6444",
   "metadata": {},
   "outputs": [],
   "source": [
    "# write a python program to check if a given number is prime or not.\n",
    "num = int(input(\"enter an even number\"))\n",
    "flag = 0 #presume num is a prime number \n",
    "if nun > 1:\n",
    "    for i in range(2, int(num/2)):\n",
    "        if(num % i == 0):\n",
    "            if flag == 1 #num is not prime number\n",
    "            break #no need to check any further \n",
    "    if flag == 1:\n",
    "        print(num, \"is not a prime number\")\n",
    "    else:\n",
    "        print(num, \"is a prime number\")\n",
    "else:\n",
    "    print(\"Entered number is <= 1, execute again!\")"
   ]
  }
 ],
 "metadata": {
  "kernelspec": {
   "display_name": "Python 3 (ipykernel)",
   "language": "python",
   "name": "python3"
  },
  "language_info": {
   "codemirror_mode": {
    "name": "ipython",
    "version": 3
   },
   "file_extension": ".py",
   "mimetype": "text/x-python",
   "name": "python",
   "nbconvert_exporter": "python",
   "pygments_lexer": "ipython3",
   "version": "3.9.7"
  }
 },
 "nbformat": 4,
 "nbformat_minor": 5
}
