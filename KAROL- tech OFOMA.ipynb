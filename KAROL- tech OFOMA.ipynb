{
 "cells": [
  {
   "cell_type": "code",
   "execution_count": null,
   "id": "492a83af",
   "metadata": {},
   "outputs": [],
   "source": [
    "class student():\n",
    "    def __init__(self, name, dob, mat_no, course):\n",
    "        self.name = name\n",
    "        self.dob = dob\n",
    "        self.mat_no = mat_no\n",
    "        self.course = course\n",
    "    \n",
    "    def course1 (self, cname1, ca_score1, exam_score1):\n",
    "        self.cname1 = cname1\n",
    "        self.ca_score1 = ca_score1\n",
    "        self.exam_score1 = exam_score1\n",
    "        self.total1 = ca_score1 + exam_score1\n",
    "        print(\"name of course:\", cname1 ,\"CA score:\",  ca_score1 , \"Total score:\", self.total1)\n",
    "        \n",
    "    def gpa(self, total1, total2, total3):\n",
    "        final = ((total1 + total2 + total3) / 300) * 5\n",
    "        print(\"GPA:\" + final)\n",
    "        \n",
    "        \n",
    "class postgrad(student): \n",
    "    def __init__(self, name, dob, mat_no, course, thesis_name, hostel_name, hostel_number):\n",
    "        super().__init__ (self, name, dob, mat_no, course)\n",
    "        self.thesis_name = thesis_name\n",
    "        self.hostel_name = hosel_name\n",
    "        self.hostel_number = hostel_number\n",
    "        \n",
    "class master(student):\n",
    "    def __init__(self, name, dob, mat_no, course, specialty, reg_number, extra_fees):\n",
    "        super().__init__ (self, name, dob, mat_no, course)\n",
    "        self.specialty = specialty\n",
    "        self.reg_number = reg_number\n",
    "        self.extra_fees = extra_fees\n",
    "        \n",
    "class undergrad(student):\n",
    "    def __init__(self, name, dob, mat_no, course, hostel_name, club):\n",
    "        super().__init__ (name, dob, mat_no, course)\n",
    "        self.hostel_name = hostel_name\n",
    "        self.club = club\n",
    "            \n",
    "    def aspiration(self):\n",
    "        aspire_to_be = str(input(\"hello, please input your aspirations: \"))\n",
    "        print(\"Aspiration:\" + aspire_to_be)\n",
    "            \n",
    "student1 = undergrad(\"marco\", \"22-05-04\", \"12346787632\", \"Economics\", \"cooperative\", \"back-breaking club\")\n",
    "student1.aspiration()\n",
    "student2 = master(\"Alexa\", \"11-03-01\", \"34298763829\", \"bus_admin\", \"pearl\", \"sneaky-link club\")\n",
    "student2.dob\n",
    "student3 = postgrad(\"oche\", \"20-02-02\", \"3849829338\", \"media_comm\", \"pod\", \"objectifying club\")\n",
    "student3.hostel_num"
   ]
  },
  {
   "cell_type": "code",
   "execution_count": 8,
   "id": "456c914e",
   "metadata": {},
   "outputs": [
    {
     "name": "stdout",
     "output_type": "stream",
     "text": [
      "15\n"
     ]
    }
   ],
   "source": [
    "a = 15\n",
    "def lol():\n",
    "    a = 21 // 3\n",
    "    return a\n",
    "print(a)"
   ]
  },
  {
   "cell_type": "code",
   "execution_count": null,
   "id": "d55c4fe1",
   "metadata": {},
   "outputs": [],
   "source": [
    "p"
   ]
  }
 ],
 "metadata": {
  "kernelspec": {
   "display_name": "Python 3 (ipykernel)",
   "language": "python",
   "name": "python3"
  },
  "language_info": {
   "codemirror_mode": {
    "name": "ipython",
    "version": 3
   },
   "file_extension": ".py",
   "mimetype": "text/x-python",
   "name": "python",
   "nbconvert_exporter": "python",
   "pygments_lexer": "ipython3",
   "version": "3.9.7"
  }
 },
 "nbformat": 4,
 "nbformat_minor": 5
}
