{
 "cells": [
  {
   "cell_type": "code",
   "execution_count": null,
   "id": "90829de0",
   "metadata": {},
   "outputs": [],
   "source": [
    "numbers = [1, 2, 3, 4, 6, 11, 20]\n",
    "sq = 0\n",
    "for val in range(3,5):\n",
    "    sq = val*val\n",
    "    print(sq)"
   ]
  },
  {
   "cell_type": "code",
   "execution_count": null,
   "id": "f1055c4a",
   "metadata": {},
   "outputs": [],
   "source": [
    "x = range(8, 3, -2)\n",
    "for n in x:\n",
    "    print(n)"
   ]
  },
  {
   "cell_type": "code",
   "execution_count": null,
   "id": "703d1e3e",
   "metadata": {},
   "outputs": [],
   "source": [
    "def bank(x):\n",
    "    x = x + [5]\n",
    "    c = [4, 5, 6, 1]\n",
    "\n",
    "\n",
    "c = [3, 2, 3, 4, 7]\n",
    "bank(c)\n",
    "print(len(c)+ min(c))\n",
    "\n"
   ]
  },
  {
   "cell_type": "code",
   "execution_count": null,
   "id": "3bc05fc8",
   "metadata": {},
   "outputs": [],
   "source": [
    "a = [2, 34, 76]\n",
    "min(a)"
   ]
  },
  {
   "cell_type": "code",
   "execution_count": null,
   "id": "62b1059f",
   "metadata": {},
   "outputs": [],
   "source": [
    "for num1 in range(3, 6, 2):\n",
    "    for num2 in range(10, 14, 3):\n",
    "        print(num1, \"and\", num2)"
   ]
  },
  {
   "cell_type": "code",
   "execution_count": null,
   "id": "3eac2789",
   "metadata": {},
   "outputs": [],
   "source": [
    "s = range(2,5,3)\n",
    "T = range(1,10,3)\n",
    "for x in s:\n",
    "    for k in T:\n",
    "        print(k*2, end=\" \")\n",
    "        print()"
   ]
  },
  {
   "cell_type": "code",
   "execution_count": null,
   "id": "757f1830",
   "metadata": {},
   "outputs": [],
   "source": [
    "num = 1\n",
    "while num < 10:\n",
    "    print(num)\n",
    "    num = num + 3"
   ]
  },
  {
   "cell_type": "code",
   "execution_count": null,
   "id": "a000bdff",
   "metadata": {},
   "outputs": [],
   "source": [
    "i = 1\n",
    "j = 5\n",
    "while i < 4:\n",
    "    while j < 6:\n",
    "        print(i*j, j+i)\n",
    "        j = j + 1\n",
    "        i = i + 1"
   ]
  },
  {
   "cell_type": "code",
   "execution_count": null,
   "id": "714c76ab",
   "metadata": {},
   "outputs": [],
   "source": [
    "def boggie_girl(n):\n",
    "    if n in range(2,6):\n",
    "        print(n*3, \"is in the code\")\n",
    "    else:\n",
    "        print(n*2, \"is not in the code\")\n",
    "boggie_girl(3.5)"
   ]
  },
  {
   "cell_type": "code",
   "execution_count": null,
   "id": "8c925333",
   "metadata": {},
   "outputs": [],
   "source": [
    "values=\"1,2,3,4,10,18\"\n",
    "l=values.split(\",\")\n",
    "t=tuple(l[3])\n",
    "print(t)"
   ]
  },
  {
   "cell_type": "code",
   "execution_count": 12,
   "id": "212848a8",
   "metadata": {},
   "outputs": [
    {
     "data": {
      "text/plain": [
       "['c++', 'c']"
      ]
     },
     "execution_count": 12,
     "metadata": {},
     "output_type": "execute_result"
    }
   ],
   "source": [
    "prog = [\"javascript\", \"c++\", \"c\", \"PHP\", \"Ruby\", \"CSS\"]\n",
    "prog[-5:-3]"
   ]
  },
  {
   "cell_type": "code",
   "execution_count": 13,
   "id": "4714078e",
   "metadata": {},
   "outputs": [
    {
     "data": {
      "text/plain": [
       "['c', 'Ruby']"
      ]
     },
     "execution_count": 13,
     "metadata": {},
     "output_type": "execute_result"
    }
   ],
   "source": [
    "prog[2:6:2]"
   ]
  },
  {
   "cell_type": "code",
   "execution_count": 14,
   "id": "d88d36a3",
   "metadata": {},
   "outputs": [
    {
     "data": {
      "text/plain": [
       "'javascript'"
      ]
     },
     "execution_count": 14,
     "metadata": {},
     "output_type": "execute_result"
    }
   ],
   "source": [
    "prog.pop(-6)"
   ]
  },
  {
   "cell_type": "code",
   "execution_count": 15,
   "id": "599e946a",
   "metadata": {},
   "outputs": [
    {
     "name": "stdout",
     "output_type": "stream",
     "text": [
      "Ruby\n"
     ]
    }
   ],
   "source": [
    "i = 3\n",
    "while i < len(prog):\n",
    "    print(prog[i])\n",
    "    i += 4"
   ]
  },
  {
   "cell_type": "code",
   "execution_count": 16,
   "id": "29439280",
   "metadata": {},
   "outputs": [
    {
     "name": "stdout",
     "output_type": "stream",
     "text": [
      "PHP\n"
     ]
    }
   ],
   "source": [
    "if(len(prog)>4):\n",
    "    print(prog[2])"
   ]
  },
  {
   "cell_type": "code",
   "execution_count": 17,
   "id": "4eaf1620",
   "metadata": {},
   "outputs": [
    {
     "name": "stdout",
     "output_type": "stream",
     "text": [
      "three\n"
     ]
    }
   ],
   "source": [
    "def printvalue(s1,s2):\n",
    "    len1 = len(s1)\n",
    "    len2 = len(s2)\n",
    "    if len1>len2:\n",
    "        print(s1)\n",
    "    elif len2>len1:\n",
    "        print(s2)\n",
    "    else:\n",
    "        print(s1)\n",
    "        print(s2)\n",
    "printvalue(\"one\",\"three\")"
   ]
  },
  {
   "cell_type": "code",
   "execution_count": 18,
   "id": "1b6d294f",
   "metadata": {},
   "outputs": [
    {
     "name": "stdout",
     "output_type": "stream",
     "text": [
      "1\n",
      "36\n",
      "121\n"
     ]
    }
   ],
   "source": [
    "def printDict():\n",
    "    d=dict()\n",
    "    for i in range(1,12,5):\n",
    "        d[i]=i**2\n",
    "        print(d[i])\n",
    "printDict()"
   ]
  },
  {
   "cell_type": "code",
   "execution_count": 20,
   "id": "b940c4f9",
   "metadata": {},
   "outputs": [
    {
     "name": "stdout",
     "output_type": "stream",
     "text": [
      "(6, 7, 8, 9, 10)\n"
     ]
    }
   ],
   "source": [
    "tp=(1,2,3,4,5,6,7,8,9,10)\n",
    "tp1=tp[:5:2]\n",
    "tp2=tp[5:]\n",
    "\n",
    "print(tp2)\n",
    "    "
   ]
  },
  {
   "cell_type": "code",
   "execution_count": null,
   "id": "9ad3fc72",
   "metadata": {},
   "outputs": [],
   "source": []
  }
 ],
 "metadata": {
  "kernelspec": {
   "display_name": "Python 3 (ipykernel)",
   "language": "python",
   "name": "python3"
  },
  "language_info": {
   "codemirror_mode": {
    "name": "ipython",
    "version": 3
   },
   "file_extension": ".py",
   "mimetype": "text/x-python",
   "name": "python",
   "nbconvert_exporter": "python",
   "pygments_lexer": "ipython3",
   "version": "3.9.7"
  }
 },
 "nbformat": 4,
 "nbformat_minor": 5
}
