{
 "cells": [
  {
   "cell_type": "markdown",
   "id": "1786914f",
   "metadata": {},
   "source": [
    "# Pseudo code for wk9 pro1\n",
    "\n",
    "## START\n",
    "### INPUT: employeelist \n",
    "### ENTER: name\n",
    "### IF: name = employeelist\n",
    "###                     employeelist_obj  = check_employee( name )\n",
    "###                     CALL check_employee class\n",
    "### ELSE: \n",
    "###                    PRINT: Access denied, please try and input your name again\n",
    "\n",
    "### IF: name = employeelist\n",
    "###                     employeelist_obj = take_attendance(name)\n",
    "###                     CALL take_attendance class\n",
    "### ELSE: \n",
    "###           PRINT: Non employees cannot be assigned tasks\n",
    "\n",
    "\n",
    "### INPUT: tasklist\n",
    "### IF:  name is present\n",
    "###        tasklist_obj = assign_task(name) \n",
    "###        CALL assign_task class\n",
    "\n",
    "###  IF name is False:\n",
    "###  ACCESS: false\n",
    "### PRINT: Unfortunately non-employee cannot be assigned task\n",
    "\n",
    "\n",
    "## END\n",
    "\n"
   ]
  },
  {
   "cell_type": "markdown",
   "id": "7c51f5de",
   "metadata": {},
   "source": [
    "# Pseudo code for wk9 pro2\n",
    "\n",
    "## START\n",
    "### INPUT: select your location, PAU or EPE\n",
    "### INPUT: please enter your weight\n",
    "###                    Price = 0\n",
    "### IF: \"weight\" >=  10  and  \"location\" = PAU\n",
    "###        PRINT: you have been charged 2000 naira\n",
    "\n",
    "### ELIF: \"weight\" < 10 and \"location\" = PAU\n",
    "###         PRINT: you have been charged 1500 naira\n",
    "\n",
    "### ELIF: \"weight\" >= 10 and \"location\" = EPE\n",
    "###         PRINT: you have been charged 5000 naira\n",
    "\n",
    "### ELIF: \"weight\" >= 10 and \"location\" = EPE\n",
    "###           PRINT: you have been charged 4000 naira\n",
    "\n",
    "### ELSE: \n",
    "### PRINT: sorry...we cannot reach your destignated location\n",
    "\n",
    "###  RETURN Price\n",
    "\n",
    "\n",
    "## STOP\n",
    "\n"
   ]
  },
  {
   "cell_type": "code",
   "execution_count": null,
   "id": "26b9da0e",
   "metadata": {},
   "outputs": [],
   "source": []
  },
  {
   "cell_type": "markdown",
   "id": "15d1a71d",
   "metadata": {},
   "source": [
    "# WEEK 10 PROJECT\n",
    "\n",
    "## START\n",
    "### INPUT: employeelist \n",
    "### ENTER: name\n",
    "### IF: name = employeelist\n",
    "###                     employeelist_obj  = check_employee( name )\n",
    "###                     CALL check_employee class\n",
    "### ELSE: \n",
    "###                    PRINT: Access denied, please try and input your name again\n",
    "\n",
    "### INPUT: divisionlist\n",
    "### ENTER: please input your division\n",
    "### IF division = retail\n",
    "###                   retail INHERITS from mutual_services\n",
    "\n",
    "### ELIF division = global\n",
    "###                        global INHERITS from unique_services \n",
    "\n",
    "### ELIF division = "
   ]
  }
 ],
 "metadata": {
  "kernelspec": {
   "display_name": "Python 3 (ipykernel)",
   "language": "python",
   "name": "python3"
  },
  "language_info": {
   "codemirror_mode": {
    "name": "ipython",
    "version": 3
   },
   "file_extension": ".py",
   "mimetype": "text/x-python",
   "name": "python",
   "nbconvert_exporter": "python",
   "pygments_lexer": "ipython3",
   "version": "3.9.7"
  }
 },
 "nbformat": 4,
 "nbformat_minor": 5
}
