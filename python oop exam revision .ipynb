{
 "cells": [
  {
   "cell_type": "code",
   "execution_count": null,
   "id": "6319cf6b",
   "metadata": {},
   "outputs": [],
   "source": [
    "import random\n",
    "class user():\n",
    "    \n",
    "    def __init__(self, firstname, lastname):\n",
    "        self.name = firstname\n",
    "        self.surname = lastname\n",
    "        self.fullname = \"self.name\" + \" \" + \"lastname\"\n",
    "        \n",
    "    def check_employee(self):\n",
    "        isemployeee = True\n",
    "        employeelist = [\"Mary Evans\", \"Eyo Ishan\", \"Durojaiye Dare\", \"Adams Ali\", \"Andrew Ugwu\", \"Stella Mankinde\", \"Jane Akibo\", \"Ago James\", \"Michell Taiwo\", \"Abraham Jones\" , \"Nicole Anide\", \"Kosi Korso\", \"Adele Martins\", \"Emmanuel Ojo\", \"Ajayi Fatima\"]\n",
    "        for employee in employeelist:\n",
    "            if self.fullname = employee:\n",
    "                isemployee == True \n",
    "                break\n",
    "                return isemployee\n",
    "        \n",
    "    def take_attendance(self):\n",
    "        ispresent = False\n",
    "        if user.check_employee(self) is True:\n",
    "            ispresent = True\n",
    "        else:\n",
    "            print(\"Non-employees cannot take attendance\")\n",
    "            return\n",
    "    \n",
    "    def assign_task(self):\n",
    "        if user.check_employee(self) is True:\n",
    "            tasklist = [\"Loading\", \"Transporting\", \"Reveiwing Orders\", \"Customer Service\", \"Delivering Items\"]\n",
    "            random.shuffle = (tasklist)\n",
    "            employeetask = tasklist[0]\n",
    "            return employeetask\n",
    "        else:\n",
    "            print(\"Non employees cannoot be assigned tasks\")\n",
    "            return False\n",
    "        \n",
    "    def refuse_access(self):\n",
    "        access = True\n",
    "        if user.check_employee(self) is False:\n",
    "            access = False\n",
    "            print(\"Unfortunately, we can not grant you access, only employees have access\")\n",
    "        else:\n",
    "            print(\"Access granted. Welcome\" + self.fullname)\n",
    "        return \n",
    "\n",
    "        \n",
    "            \n",
    "\n",
    "       \n",
    " \n",
    "    "
   ]
  },
  {
   "cell_type": "code",
   "execution_count": null,
   "id": "5f94b2a0",
   "metadata": {},
   "outputs": [],
   "source": [
    "user1 = user(\"Mary\", \"Evans\")\n",
    "a = user1.check_employee\n",
    "b = user2.take_attendance\n",
    "c = user3.assign_task\n",
    "d = user4.refuse_access\n",
    "print(a)\n",
    "print(b)\n",
    "print(c)\n",
    "print(d)"
   ]
  },
  {
   "cell_type": "code",
   "execution_count": null,
   "id": "179f89e2",
   "metadata": {},
   "outputs": [],
   "source": [
    "class deivery():\n",
    "    def __init__(self, weight, location):\n",
    "        self.weight = weight\n",
    "        self.location = location.lower()\n",
    "        \n",
    "    def price(self):\n",
    "        price = 0\n",
    "        if (self.weight =>10) and (self.location == PAU):\n",
    "            print(\"You have been charged 2000 naira\")\n",
    "        elif(self.weight =< 10) and (self.location == PAU):\n",
    "            print(\"you have been charged 1500 naira\")\n",
    "        elif(self.weight => 10) and (self.location == EPE):\n",
    "            print(\"you have been charged 5000 naira\")\n",
    "        elif(self.weight =< 10) and (self.location == EPE):\n",
    "            print(\"you have been charged 4500 naira\")\n",
    "        else:\n",
    "            print(\"sorry...we are not yet in your location, please try again\")\n",
    "\n",
    "delivery1 = delivery(30, PAU)\n",
    "delivery2 = delivery(20, EPE)\n",
    "delivery3 = delivery(44, PAU)\n"
   ]
  },
  {
   "cell_type": "code",
   "execution_count": null,
   "id": "3fba8d31",
   "metadata": {},
   "outputs": [],
   "source": [
    "a = delivery1\n",
    "b = delivery2\n",
    "c = delivery3\n",
    "\n",
    "print(a)\n",
    "print(b)\n",
    "print(c)"
   ]
  },
  {
   "cell_type": "code",
   "execution_count": null,
   "id": "d9604cb1",
   "metadata": {},
   "outputs": [],
   "source": []
  }
 ],
 "metadata": {
  "kernelspec": {
   "display_name": "Python 3 (ipykernel)",
   "language": "python",
   "name": "python3"
  },
  "language_info": {
   "codemirror_mode": {
    "name": "ipython",
    "version": 3
   },
   "file_extension": ".py",
   "mimetype": "text/x-python",
   "name": "python",
   "nbconvert_exporter": "python",
   "pygments_lexer": "ipython3",
   "version": "3.9.7"
  }
 },
 "nbformat": 4,
 "nbformat_minor": 5
}
