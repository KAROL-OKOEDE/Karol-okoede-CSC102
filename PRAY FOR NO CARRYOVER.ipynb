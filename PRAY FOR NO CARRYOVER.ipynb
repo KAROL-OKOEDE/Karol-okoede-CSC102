{
 "cells": [
  {
   "cell_type": "code",
   "execution_count": 15,
   "id": "5f2fc37b",
   "metadata": {},
   "outputs": [
    {
     "name": "stdout",
     "output_type": "stream",
     "text": [
      "your club is not in coup_de_ecriva \n"
     ]
    }
   ],
   "source": [
    "from abc import ABC,abstractmethod\n",
    "\n",
    "class coup_de_ecriva(ABC):\n",
    "    def team(self, club_name):\n",
    "        print(\"welcome to\", club_name)\n",
    "        \n",
    "@abstractmethod\n",
    "def fan_page(self, club_name):\n",
    "    pass\n",
    "\n",
    "class FC_Cirok(coup_de_ecriva):\n",
    "    def fan_page(self, club_name):\n",
    "        print(\"welcome to\", club_name)\n",
    "\n",
    "class Madiba_FC(coup_de_ecriva):\n",
    "    def fan_page(self, club_name):\n",
    "        print(\"welcome to\", clubname)\n",
    "\n",
    "class Blue_Jay_FC(coup_de_ecriva):\n",
    "    def fan_page(self, club_name):\n",
    "        print(\"welcome to\", club_name)\n",
    "        \n",
    "class TSG_Walker(coup_de_ecriva):\n",
    "    def fan_page(self, club_name):\n",
    "        print(\"welcome to\", club_name)\n",
    "    \n",
    "club = (\"Please enter the name of your club \")\n",
    "\n",
    "if club == \"FC_Cirok\":\n",
    "    f = FC_Cirok()\n",
    "    f.fan_page\n",
    "\n",
    "elif club == \"Madiba_FC\":\n",
    "    m = Madiba_FC()\n",
    "    m.fan_page\n",
    "    \n",
    "elif club == \"Blue_Jay_FC\":\n",
    "    b = Blue_Jay_FC()\n",
    "    b.fan_page\n",
    "    \n",
    "elif club == \"TSG_Walker\":\n",
    "    t = TSG_Walker()\n",
    "    t.fan_page\n",
    "else:\n",
    "    print(\"your club is not in coup_de_ecriva \")"
   ]
  },
  {
   "cell_type": "code",
   "execution_count": null,
   "id": "df15b0ce",
   "metadata": {},
   "outputs": [],
   "source": [
    "class zenith():\n",
    "    def __init(self, name):\n",
    "        self.name = name\n",
    "        \n",
    "    def unique_services(self):\n",
    "        reply = \"i do not know my unique services\"\n",
    "        return reply\n",
    "\n",
    "        return all_service\n",
    "    \n",
    "    \n",
    "        \n",
    "        \n",
    "        \n",
    "        \n",
    "    \n",
    "    \n",
    "    \n",
    "\n",
    "\n",
    "\n",
    "\n",
    "    "
   ]
  },
  {
   "cell_type": "code",
   "execution_count": null,
   "id": "fff577a7",
   "metadata": {},
   "outputs": [],
   "source": [
    "class zenith():\n",
    "    def __init__(Self,name):\n",
    "        self.name\n",
    "    \n",
    "    def unique_Services(self):\n",
    "        service1 = \"\""
   ]
  }
 ],
 "metadata": {
  "kernelspec": {
   "display_name": "Python 3 (ipykernel)",
   "language": "python",
   "name": "python3"
  },
  "language_info": {
   "codemirror_mode": {
    "name": "ipython",
    "version": 3
   },
   "file_extension": ".py",
   "mimetype": "text/x-python",
   "name": "python",
   "nbconvert_exporter": "python",
   "pygments_lexer": "ipython3",
   "version": "3.9.7"
  }
 },
 "nbformat": 4,
 "nbformat_minor": 5
}
